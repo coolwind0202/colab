{
  "nbformat": 4,
  "nbformat_minor": 0,
  "metadata": {
    "colab": {
      "name": "exp",
      "provenance": [],
      "authorship_tag": "ABX9TyO5DS3Jors9eSYNGjbkZjgZ",
      "include_colab_link": true
    },
    "kernelspec": {
      "name": "python3",
      "display_name": "Python 3"
    },
    "language_info": {
      "name": "python"
    }
  },
  "cells": [
    {
      "cell_type": "markdown",
      "metadata": {
        "id": "view-in-github",
        "colab_type": "text"
      },
      "source": [
        "<a href=\"https://colab.research.google.com/github/coolwind0202/colab/blob/main/exp.ipynb\" target=\"_parent\"><img src=\"https://colab.research.google.com/assets/colab-badge.svg\" alt=\"Open In Colab\"/></a>"
      ]
    },
    {
      "cell_type": "code",
      "metadata": {
        "colab": {
          "base_uri": "https://localhost:8080/"
        },
        "id": "sLh20kN1XVcD",
        "outputId": "77e5c3ad-e7fc-4278-b63d-7b525e12b08c"
      },
      "source": [
        "import math\n",
        "\n",
        "class Data:\n",
        "    def __init__(self, lv, exp):\n",
        "        self.lv = lv\n",
        "        self.exp = exp\n",
        "        \n",
        "    def __repr__(self):\n",
        "        return f\"<Data lv={self.lv} exp={self.exp} />\"\n",
        "\n",
        "\n",
        "l = []\n",
        "\n",
        "with open(\"exp.txt\") as f:\n",
        "  base = f.readlines()\n",
        "  print(s)\n",
        "  for s in base:\n",
        "      [lv, exp] = map(int, s.split())\n",
        "      l.append(Data(lv, exp)) \n",
        "    \n",
        "print(l)\n",
        "\n",
        "def f(a, n):\n",
        "    for data in l:\n",
        "        try:\n",
        "            print(\"---------\")\n",
        "            print(data.lv, data.exp)\n",
        "            print(math.log(data.lv, a), math.log(data.exp, n))\n",
        "        except ValueError:\n",
        "            print(\"(Value Error)\")\n",
        "            continue\n",
        "        \n",
        "f(int(input()), int(input()))"
      ],
      "execution_count": 5,
      "outputs": [
        {
          "output_type": "stream",
          "name": "stdout",
          "text": [
            "15\t8715\n",
            "[<Data lv=1 exp=0 />, <Data lv=2 exp=10 />, <Data lv=3 exp=31 />, <Data lv=4 exp=73 />, <Data lv=5 exp=162 />, <Data lv=6 exp=286 />, <Data lv=7 exp=458 />, <Data lv=8 exp=699 />, <Data lv=9 exp=1036 />, <Data lv=10 exp=1508 />, <Data lv=11 exp=2167 />, <Data lv=12 exp=3089 />, <Data lv=13 exp=4380 />, <Data lv=14 exp=6186 />, <Data lv=15 exp=8715 />]\n",
            "5\n",
            "9\n",
            "---------\n",
            "1 0\n",
            "(Value Error)\n",
            "---------\n",
            "2 10\n",
            "0.43067655807339306 1.0479516371446924\n",
            "---------\n",
            "3 31\n",
            "0.6826061944859854 1.5628749286285073\n",
            "---------\n",
            "4 73\n",
            "0.8613531161467861 1.952672241792362\n",
            "---------\n",
            "5 162\n",
            "1.0 2.3154648767857284\n",
            "---------\n",
            "6 286\n",
            "1.1132827525593785 2.574152805844194\n",
            "---------\n",
            "7 458\n",
            "1.2090619551221675 2.788458333895949\n",
            "---------\n",
            "8 699\n",
            "1.2920296742201791 2.980874513143397\n",
            "---------\n",
            "9 1036\n",
            "1.3652123889719707 3.1599511922613046\n",
            "---------\n",
            "10 1508\n",
            "1.4306765580733933 3.330810889363185\n",
            "---------\n",
            "11 2167\n",
            "1.4898961024049782 3.495818807401314\n",
            "---------\n",
            "12 3089\n",
            "1.5439593106327716 3.6571603903413705\n",
            "---------\n",
            "13 4380\n",
            "1.5936926411670824 3.816088755722783\n",
            "---------\n",
            "14 6186\n",
            "1.6397385131955606 3.9732142282100202\n",
            "---------\n",
            "15 8715\n",
            "1.6826061944859854 4.129209663653693\n"
          ]
        }
      ]
    },
    {
      "cell_type": "markdown",
      "metadata": {
        "id": "hthvM7QtXjGc"
      },
      "source": [
        ""
      ]
    }
  ]
}